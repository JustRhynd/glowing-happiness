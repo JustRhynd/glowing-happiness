{
 "cells": [
  {
   "cell_type": "markdown",
   "metadata": {},
   "source": [
    "1)a) 7\n",
    "\n",
    "1)b) 4"
   ]
  },
  {
   "cell_type": "markdown",
   "metadata": {},
   "source": [
    "2 )\n",
    "\n",
    "    R 10\n",
    "\n",
    "        D 15\n",
    "\n",
    "            D 20\n",
    "\n",
    "            G 12\n",
    "\n",
    "        G5\n",
    "\n",
    "            D 8\n",
    "\n",
    "            G 4"
   ]
  },
  {
   "cell_type": "markdown",
   "metadata": {},
   "source": [
    "3 )\n",
    "\n",
    "    R 10\n",
    "\n",
    "        D 20\n",
    "\n",
    "            G 15\n",
    "\n",
    "                G 12\n",
    "\n",
    "        G 8\n",
    "\n",
    "            G 4\n",
    "\n",
    "                D 5"
   ]
  },
  {
   "cell_type": "markdown",
   "metadata": {},
   "source": [
    "4 )\n",
    "\n",
    "    def hauteur(self):\n",
    "        self.racine.hauteur()"
   ]
  },
  {
   "cell_type": "markdown",
   "metadata": {},
   "source": [
    "5 )\n",
    "\n",
    "    Class Noeud:\n",
    "    def taille(self):\n",
    "        k = 1\n",
    "        if self is None:\n",
    "            return 0\n",
    "        if self.gauche is not None:\n",
    "            k += taille(self.gauche)\n",
    "        if self.droit is not None:\n",
    "            k += taille(self.droit)\n",
    "        return k\n",
    "\n",
    "\n",
    "    Class Arbre:\n",
    "    def taille(self):\n",
    "        return self.racine.taille()"
   ]
  },
  {
   "cell_type": "markdown",
   "metadata": {},
   "source": [
    "6)a)\n",
    "\n",
    "    2**h-1\n",
    "\n",
    "\n",
    "6)b)\n",
    "\n",
    "    def bien_construit(self):\n",
    "        t = self.taille()\n",
    "        h = self.hauteur()\n",
    "        return 2**(h-1) < t\n"
   ]
  },
  {
   "cell_type": "markdown",
   "metadata": {},
   "source": []
  }
 ],
 "metadata": {
  "kernelspec": {
   "display_name": "Python 3",
   "language": "python",
   "name": "python3"
  },
  "language_info": {
   "codemirror_mode": {
    "name": "ipython",
    "version": 3
   },
   "file_extension": ".py",
   "mimetype": "text/x-python",
   "name": "python",
   "nbconvert_exporter": "python",
   "pygments_lexer": "ipython3",
   "version": "3.10.13"
  }
 },
 "nbformat": 4,
 "nbformat_minor": 2
}
