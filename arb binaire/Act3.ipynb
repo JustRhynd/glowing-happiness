{
 "cells": [
  {
   "cell_type": "code",
   "execution_count": 35,
   "metadata": {},
   "outputs": [],
   "source": [
    "#Exercice 1:\n",
    "\n",
    "def nombre_de_mots(phrase):\n",
    "    if phrase == (''):\n",
    "        return 0\n",
    "    \n",
    "    nbr = 1\n",
    "    for e in phrase:\n",
    "        if e == \" \":\n",
    "            nbr += 1\n",
    "        if e == \"!\" or e == \"?\":\n",
    "            nbr -= 1\n",
    "    return nbr"
   ]
  },
  {
   "cell_type": "code",
   "execution_count": 44,
   "metadata": {},
   "outputs": [
    {
     "data": {
      "text/plain": [
       "6"
      ]
     },
     "execution_count": 44,
     "metadata": {},
     "output_type": "execute_result"
    }
   ],
   "source": [
    "nombre_de_mots('Le point d exclamation est separe !') "
   ]
  },
  {
   "cell_type": "code",
   "execution_count": 28,
   "metadata": {},
   "outputs": [
    {
     "data": {
      "text/plain": [
       "9"
      ]
     },
     "execution_count": 28,
     "metadata": {},
     "output_type": "execute_result"
    }
   ],
   "source": [
    "nombre_de_mots('Il y a un seul espace entre les mots !') "
   ]
  },
  {
   "cell_type": "code",
   "execution_count": 29,
   "metadata": {},
   "outputs": [
    {
     "data": {
      "text/plain": [
       "8"
      ]
     },
     "execution_count": 29,
     "metadata": {},
     "output_type": "execute_result"
    }
   ],
   "source": [
    "nombre_de_mots('Le point final est colle au dernier mot.') "
   ]
  },
  {
   "cell_type": "code",
   "execution_count": 42,
   "metadata": {},
   "outputs": [
    {
     "data": {
      "text/plain": [
       "6"
      ]
     },
     "execution_count": 42,
     "metadata": {},
     "output_type": "execute_result"
    }
   ],
   "source": [
    "nombre_de_mots('Gilbouze macarbi acra cor ed filbuzine ?') "
   ]
  },
  {
   "cell_type": "markdown",
   "metadata": {},
   "source": []
  },
  {
   "cell_type": "markdown",
   "metadata": {},
   "source": []
  },
  {
   "cell_type": "markdown",
   "metadata": {},
   "source": [
    "    "
   ]
  },
  {
   "cell_type": "code",
   "execution_count": 31,
   "metadata": {},
   "outputs": [],
   "source": [
    "#Exercice 2:\n",
    "\n",
    "class Noeud:\n",
    "    '''\n",
    "    Classe implémentant un noeud d'arbre binaire \n",
    "    disposant de 3 attributs :\n",
    "    - valeur : la valeur de l'étiquette,\n",
    "    - gauche : le sous-arbre gauche.\n",
    "    - droit : le sous-arbre droit.\n",
    "    '''\n",
    "    def __init__(self, v, g, d):\n",
    "        self.valeur = v\n",
    "        self.gauche = g\n",
    "        self.droite = d\n",
    "        \n",
    "class ABR:\n",
    "    '''\n",
    "    Classe implémentant une structure \n",
    "    d'arbre binaire de recherche.\n",
    "    '''\n",
    "    \n",
    "    def __init__(self):\n",
    "        '''Crée un arbre binaire de recherche vide'''\n",
    "        self.racine = None\n",
    "        \n",
    "    def est_vide(self):\n",
    "        '''Renvoie True si l'ABR est vide et False sinon.'''\n",
    "        return self.racine is None\n",
    "    \n",
    "    def parcours(self, tab = []):\n",
    "        '''\n",
    "\t  Renvoie la liste tab complétée avec tous les \n",
    "        éléments de \n",
    "        l'ABR triés par ordre croissant.\n",
    "        '''\n",
    "        if self.est_vide():\n",
    "            return tab\n",
    "        else:\n",
    "            self.racine.gauche.parcours(tab)\n",
    "            tab.append(self.racine.valeur)\n",
    "            self.racine.droite.parcours(tab)\n",
    "            return tab\n",
    "        \n",
    "    def insere(self, element):\n",
    "        '''Insère un élément dans l'arbre binaire de recherche.'''\n",
    "        if self.est_vide():\n",
    "            self.racine = Noeud(element, ABR(), ABR())\n",
    "        else:\n",
    "            if element < self.racine.valeur:\n",
    "                self.racine.gauche.insere(element)\n",
    "            else : \n",
    "                self.racine.droite.insere(element)\n",
    "    \n",
    "    def recherche(self, element):\n",
    "        '''\n",
    "        Renvoie True si element est présent dans l'arbre \n",
    "        binaire et False sinon.\n",
    "\t '''\n",
    "        if self.est_vide():\n",
    "            return False\n",
    "        else:\n",
    "            if element < self.racine.valeur:\n",
    "                return recherche(self.gauche, element)\n",
    "            elif element > self.racine.valeur:\n",
    "                return recherche(self.droite, element)\n",
    "            else:\n",
    "                return True"
   ]
  },
  {
   "cell_type": "code",
   "execution_count": null,
   "metadata": {},
   "outputs": [],
   "source": []
  }
 ],
 "metadata": {
  "kernelspec": {
   "display_name": "Python 3",
   "language": "python",
   "name": "python3"
  },
  "language_info": {
   "codemirror_mode": {
    "name": "ipython",
    "version": 3
   },
   "file_extension": ".py",
   "mimetype": "text/x-python",
   "name": "python",
   "nbconvert_exporter": "python",
   "pygments_lexer": "ipython3",
   "version": "3.10.13"
  }
 },
 "nbformat": 4,
 "nbformat_minor": 2
}
