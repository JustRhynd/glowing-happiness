{
 "cells": [
  {
   "cell_type": "code",
   "execution_count": 7,
   "metadata": {},
   "outputs": [],
   "source": [
    "#Exercice 1:\n",
    "\n",
    "arb = {'F':['B','G'], 'B':['A','D'], 'A':['',''], 'D':['C','E'], 'C':['',''], 'E':['',''], 'G':['','I'], 'I':['','H'], 'H':['','']} \n",
    "\n",
    "def taille(a, LETTRE):\n",
    "    if a[LETTRE] == [\"\",\"\"]:\n",
    "        return 1\n",
    "    \n",
    "    if a[LETTRE][0] != '':\n",
    "        return 1 + taille(a, a[LETTRE][0])\n",
    "\n",
    "    elif a[LETTRE][1] != '':\n",
    "        return 1 + taille(a, a[LETTRE][1])\n",
    "    \n",
    "    return 1 + taille(a, a[LETTRE][1]) + taille(a, a[LETTRE][0])"
   ]
  },
  {
   "cell_type": "code",
   "execution_count": 8,
   "metadata": {},
   "outputs": [
    {
     "data": {
      "text/plain": [
       "3"
      ]
     },
     "execution_count": 8,
     "metadata": {},
     "output_type": "execute_result"
    }
   ],
   "source": [
    "taille(arb, 'F')"
   ]
  },
  {
   "cell_type": "code",
   "execution_count": 14,
   "metadata": {},
   "outputs": [],
   "source": [
    "#Exercic 2:\n",
    "\n",
    "def tri_iteratif(tab):\n",
    "    for k in range( len(tab)-1 , 0, -1):\n",
    "        imax = 0\n",
    "        for i in range(0 , k ):\n",
    "            if tab[i] > tab[imax] :\n",
    "                imax = i\n",
    "            if tab[imax] > tab[k] :\n",
    "                tab[k] , tab[imax] = tab[imax] , tab[k]\n",
    "    return tab "
   ]
  },
  {
   "cell_type": "code",
   "execution_count": 15,
   "metadata": {},
   "outputs": [
    {
     "data": {
      "text/plain": [
       "[6, 12, 18, 21, 25, 41, 55]"
      ]
     },
     "execution_count": 15,
     "metadata": {},
     "output_type": "execute_result"
    }
   ],
   "source": [
    "tri_iteratif([41, 55, 21, 18, 12, 6, 25]) "
   ]
  }
 ],
 "metadata": {
  "kernelspec": {
   "display_name": "Python 3",
   "language": "python",
   "name": "python3"
  },
  "language_info": {
   "codemirror_mode": {
    "name": "ipython",
    "version": 3
   },
   "file_extension": ".py",
   "mimetype": "text/x-python",
   "name": "python",
   "nbconvert_exporter": "python",
   "pygments_lexer": "ipython3",
   "version": "3.10.13"
  }
 },
 "nbformat": 4,
 "nbformat_minor": 2
}
