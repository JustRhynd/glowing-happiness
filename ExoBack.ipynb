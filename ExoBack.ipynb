{
 "cells": [
  {
   "cell_type": "markdown",
   "metadata": {},
   "source": [
    "1)a) 7\n",
    "\n",
    "1)b) 4"
   ]
  },
  {
   "cell_type": "markdown",
   "metadata": {},
   "source": [
    "2)\n",
    "\n",
    "    10\n",
    "\n",
    "        15\n",
    "\n",
    "            20\n",
    "\n",
    "            12\n",
    "\n",
    "        5\n",
    "\n",
    "            8\n",
    "\n",
    "            4"
   ]
  },
  {
   "cell_type": "markdown",
   "metadata": {},
   "source": []
  }
 ],
 "metadata": {
  "language_info": {
   "name": "python"
  }
 },
 "nbformat": 4,
 "nbformat_minor": 2
}
