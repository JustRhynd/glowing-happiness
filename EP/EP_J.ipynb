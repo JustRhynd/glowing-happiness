{
 "cells": [
  {
   "cell_type": "code",
   "execution_count": 57,
   "metadata": {},
   "outputs": [],
   "source": [
    "#EXO 1:\n",
    "\n",
    "def recherche_indices_classement(elt, tab):\n",
    "    tab1 = []\n",
    "    tab2 = []\n",
    "    tab3 = []\n",
    "\n",
    "    for i in range(len(tab)):\n",
    "        if tab[i] < elt:\n",
    "            tab1.append(i)\n",
    "        elif tab[i] == elt:\n",
    "            tab2.append(i)\n",
    "        elif tab[i] > elt:\n",
    "            tab3.append(i)\n",
    "    \n",
    "    if len(tab3) + len(tab2) + len(tab1) != len(tab):\n",
    "        return'AHHHHHHHHHHHHHHHH'\n",
    "\n",
    "    return (tab1, tab2, tab3)"
   ]
  },
  {
   "cell_type": "code",
   "execution_count": 58,
   "metadata": {},
   "outputs": [
    {
     "data": {
      "text/plain": [
       "([0, 3, 7], [1, 6], [2, 4, 5])"
      ]
     },
     "execution_count": 58,
     "metadata": {},
     "output_type": "execute_result"
    }
   ],
   "source": [
    "recherche_indices_classement(3, [1, 3, 4, 2, 4, 6, 3, 0])"
   ]
  },
  {
   "cell_type": "code",
   "execution_count": 46,
   "metadata": {},
   "outputs": [
    {
     "data": {
      "text/plain": [
       "([0, 2, 5], [], [1, 3, 4])"
      ]
     },
     "execution_count": 46,
     "metadata": {},
     "output_type": "execute_result"
    }
   ],
   "source": [
    "recherche_indices_classement(3, [1, 4, 2, 4, 6, 0])"
   ]
  },
  {
   "cell_type": "code",
   "execution_count": 47,
   "metadata": {},
   "outputs": [
    {
     "data": {
      "text/plain": [
       "([], [], [])"
      ]
     },
     "execution_count": 47,
     "metadata": {},
     "output_type": "execute_result"
    }
   ],
   "source": [
    "recherche_indices_classement(3, [])"
   ]
  },
  {
   "cell_type": "code",
   "execution_count": 48,
   "metadata": {},
   "outputs": [
    {
     "data": {
      "text/plain": [
       "([], [], [0])"
      ]
     },
     "execution_count": 48,
     "metadata": {},
     "output_type": "execute_result"
    }
   ],
   "source": [
    "recherche_indices_classement(-1, [1])"
   ]
  },
  {
   "cell_type": "markdown",
   "metadata": {},
   "source": [
    "    "
   ]
  },
  {
   "cell_type": "code",
   "execution_count": 30,
   "metadata": {},
   "outputs": [],
   "source": [
    "#EXO 2:\n",
    "\n",
    "def moyenne(nom, dico_result):\n",
    "    if nom in dico_result:\n",
    "        notes = dico_result[nom]\n",
    "        total_points = 0\n",
    "        total_coefficients = 0\n",
    "        for valeurs in notes.values():\n",
    "            note, coefficient = valeurs\n",
    "            total_points = total_points + note * coefficient\n",
    "            total_coefficients = total_coefficients + coefficient\n",
    "        return round( total_points / total_coefficients, 1 )\n",
    "    else:\n",
    "        return -1"
   ]
  },
  {
   "cell_type": "code",
   "execution_count": 78,
   "metadata": {},
   "outputs": [],
   "source": [
    "resultats = {'Dupont': {\n",
    "    'DS1': [15.5, 4],\n",
    "    'DM1': [14.5, 1],\n",
    "    'DS2': [13, 4],\n",
    "    'PROJET1': [16, 3],  'DS3': [14, 4]\n",
    " },\n",
    " 'Durand': {\n",
    "    'DS1': [6 , 4],\n",
    "    'DM1': [14.5, 1],\n",
    "    'DS2': [8, 4],\n",
    "    'PROJET1': [9, 3],\n",
    "    'IE1': [7, 2],\n",
    "    'DS3': [8, 4],\n",
    "    'DS4':[15, 4]\n",
    " },\n",
    " 'Aidan': {\n",
    "    'DS1' : [20, 4],\n",
    "    'DM1' : [0, 1],\n",
    "    'DS2' : [20, 4],\n",
    "    'PROJET1' : [20, 3]\n",
    " },\n",
    "  'Jean': {\n",
    "    'DS1' : [0, 4],\n",
    "    'DM1' : [0, 10],\n",
    "    'DS2' : [4, 4],\n",
    "    'PROJET1' : [10, 3]\n",
    " }\n",
    " }"
   ]
  },
  {
   "cell_type": "code",
   "execution_count": 73,
   "metadata": {},
   "outputs": [
    {
     "data": {
      "text/plain": [
       "14.5"
      ]
     },
     "execution_count": 73,
     "metadata": {},
     "output_type": "execute_result"
    }
   ],
   "source": [
    "moyenne('Dupont', resultats)"
   ]
  },
  {
   "cell_type": "code",
   "execution_count": 39,
   "metadata": {},
   "outputs": [
    {
     "data": {
      "text/plain": [
       "-1"
      ]
     },
     "execution_count": 39,
     "metadata": {},
     "output_type": "execute_result"
    }
   ],
   "source": [
    "moyenne('Durant', resultats)"
   ]
  },
  {
   "cell_type": "code",
   "execution_count": 40,
   "metadata": {},
   "outputs": [
    {
     "data": {
      "text/plain": [
       "9.2"
      ]
     },
     "execution_count": 40,
     "metadata": {},
     "output_type": "execute_result"
    }
   ],
   "source": [
    "moyenne('Durand', resultats)"
   ]
  },
  {
   "cell_type": "code",
   "execution_count": 68,
   "metadata": {},
   "outputs": [
    {
     "data": {
      "text/plain": [
       "18.3"
      ]
     },
     "execution_count": 68,
     "metadata": {},
     "output_type": "execute_result"
    }
   ],
   "source": [
    "moyenne('Aidan', resultats)"
   ]
  },
  {
   "cell_type": "code",
   "execution_count": 79,
   "metadata": {},
   "outputs": [
    {
     "data": {
      "text/plain": [
       "2.2"
      ]
     },
     "execution_count": 79,
     "metadata": {},
     "output_type": "execute_result"
    }
   ],
   "source": [
    "moyenne('Jean', resultats)"
   ]
  },
  {
   "cell_type": "code",
   "execution_count": null,
   "metadata": {},
   "outputs": [],
   "source": []
  }
 ],
 "metadata": {
  "kernelspec": {
   "display_name": "Python 3",
   "language": "python",
   "name": "python3"
  },
  "language_info": {
   "codemirror_mode": {
    "name": "ipython",
    "version": 3
   },
   "file_extension": ".py",
   "mimetype": "text/x-python",
   "name": "python",
   "nbconvert_exporter": "python",
   "pygments_lexer": "ipython3",
   "version": "3.10.13"
  }
 },
 "nbformat": 4,
 "nbformat_minor": 2
}
