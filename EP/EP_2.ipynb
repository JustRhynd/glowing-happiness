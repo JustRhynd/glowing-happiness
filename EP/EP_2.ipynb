{
 "cells": [
  {
   "cell_type": "code",
   "execution_count": 24,
   "metadata": {},
   "outputs": [
    {
     "name": "stdout",
     "output_type": "stream",
     "text": [
      "[3, 2, 1]\n",
      "[3, 2, 1]\n"
     ]
    }
   ],
   "source": [
    "#Exercice 1:\n",
    "\n",
    "class Pile:\n",
    "    def __init__(self):\n",
    "        self.valeurs = []\n",
    "\n",
    "    def est_vide(self):\n",
    "        \"\"\"Détermine si la pile est vide\"\"\"\n",
    "        return len(self.valeurs) == 0\n",
    "\n",
    "    def empile(self, x):\n",
    "        \"\"\"Empile x dans la pile\"\"\"\n",
    "        self.valeurs.append(x)\n",
    "\n",
    "    def depile(self):\n",
    "        \"\"\"Dépile une valeur et la renvoie\n",
    "        Lève une erreur si la pile est vide\n",
    "        \"\"\"\n",
    "        if self.est_vide():\n",
    "            raise ValueError(\"La pile est vide\")\n",
    "        return self.valeurs.pop()\n",
    "\n",
    "    def __eq__(self, autre):\n",
    "        \"\"\"Détermine si pile_1 == pile_2\"\"\"\n",
    "        return self.valeurs == autre.valeurs\n",
    "    \n",
    "\n",
    "def copie(P):\n",
    "    if P.est_vide(): return \"VIDE\"\n",
    "    Tpile = Pile()\n",
    "    Npile = Pile()\n",
    "    while not P.est_vide():\n",
    "        Tpile.empile(P.depile())\n",
    "    while not Tpile.est_vide():\n",
    "        v = Tpile.depile()\n",
    "        P.empile(v)\n",
    "        Npile.empile(v)\n",
    "    return Npile\n",
    "\n",
    "pile = Pile()\n",
    "for x in [1, 2, 3]:\n",
    "    pile.empile(x)\n",
    "copie_pile = copie(pile)\n",
    "print(copie_pile.valeurs)\n",
    "print(pile.valeurs)"
   ]
  },
  {
   "cell_type": "code",
   "execution_count": 15,
   "metadata": {},
   "outputs": [
    {
     "data": {
      "text/plain": [
       "0"
      ]
     },
     "execution_count": 15,
     "metadata": {},
     "output_type": "execute_result"
    }
   ],
   "source": [
    "#Exercice 2:\n",
    "\n",
    "def portions(recette, reserve):\n",
    "    nb_portions = 1000\n",
    "    for ingredient in recette:\n",
    "        if ingredient not in reserve:\n",
    "            return 0\n",
    "        nb_portions = min(reserve[ingredient] // recette[ingredient], nb_portions)\n",
    "        if nb_portions == 0:\n",
    "            return 0\n",
    "    return nb_portions\n"
   ]
  },
  {
   "cell_type": "code",
   "execution_count": 25,
   "metadata": {},
   "outputs": [
    {
     "data": {
      "text/plain": [
       "2"
      ]
     },
     "execution_count": 25,
     "metadata": {},
     "output_type": "execute_result"
    }
   ],
   "source": [
    "recette = {\"farine\": 200, \"œuf\": 3, \"lait\": 300}\n",
    "reserve = {\"chou-fleur\": 1, \"œuf\": 7, \"farine\": 1000, \"lait\": 1000}\n",
    "portions(recette, reserve)"
   ]
  },
  {
   "cell_type": "code",
   "execution_count": 26,
   "metadata": {},
   "outputs": [
    {
     "data": {
      "text/plain": [
       "0"
      ]
     },
     "execution_count": 26,
     "metadata": {},
     "output_type": "execute_result"
    }
   ],
   "source": [
    "recette = {\"farine\": 200, \"œuf\": 3, \"lait\": 300, \"chocolat\": 200}\n",
    "reserve = {\"œuf\": 7, \"farine\": 1000, \"chocolat\": 120, \"lait\": 1000}\n",
    "portions(recette, reserve)"
   ]
  },
  {
   "cell_type": "code",
   "execution_count": null,
   "metadata": {},
   "outputs": [],
   "source": []
  }
 ],
 "metadata": {
  "kernelspec": {
   "display_name": "Python 3",
   "language": "python",
   "name": "python3"
  },
  "language_info": {
   "codemirror_mode": {
    "name": "ipython",
    "version": 3
   },
   "file_extension": ".py",
   "mimetype": "text/x-python",
   "name": "python",
   "nbconvert_exporter": "python",
   "pygments_lexer": "ipython3",
   "version": "3.undefined.undefined"
  }
 },
 "nbformat": 4,
 "nbformat_minor": 2
}
