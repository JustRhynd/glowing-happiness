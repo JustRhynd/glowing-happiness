{
 "cells": [
  {
   "cell_type": "code",
   "execution_count": 4,
   "metadata": {},
   "outputs": [],
   "source": [
    "#Exercice 1:\n",
    "\n",
    "def a_doublon(tab):\n",
    "    for i in range(1, len(tab)):\n",
    "        if tab[i-1] == tab[i]:\n",
    "            return True \n",
    "    return False"
   ]
  },
  {
   "cell_type": "code",
   "execution_count": 6,
   "metadata": {},
   "outputs": [
    {
     "data": {
      "text/plain": [
       "False"
      ]
     },
     "execution_count": 6,
     "metadata": {},
     "output_type": "execute_result"
    }
   ],
   "source": [
    "a_doublon([])"
   ]
  },
  {
   "cell_type": "code",
   "execution_count": 7,
   "metadata": {},
   "outputs": [
    {
     "data": {
      "text/plain": [
       "True"
      ]
     },
     "execution_count": 7,
     "metadata": {},
     "output_type": "execute_result"
    }
   ],
   "source": [
    "a_doublon([1,2,3,3])"
   ]
  },
  {
   "cell_type": "markdown",
   "metadata": {},
   "source": [
    "     "
   ]
  },
  {
   "cell_type": "markdown",
   "metadata": {},
   "source": []
  },
  {
   "cell_type": "code",
   "execution_count": 2,
   "metadata": {},
   "outputs": [],
   "source": [
    "#Exercice 2\n",
    "\n",
    "\n",
    "bombes = [(1, 1), (2, 4), (3, 1), (3, 3), (4, 4)]\n",
    "grille_test = [[1, 1, 1, 0, 0], [1, -1, 1, 1, 1], [2, 2, 3, 2, -1], [1, -1, 2, -1, 3], [1, 1, 2, 2, -1]]\n",
    "\n",
    "def voisinage(n, ligne, colonne):\n",
    "    \"\"\" Renvoie la liste des coordonnées des voisins de la case\n",
    "        (ligne, colonne) en gèrant les cases sur les bords. \"\"\"\n",
    "    voisins = []\n",
    "    for l in range(max(0,ligne-1), min(n, ligne+2)):\n",
    "        for c in range(max(0, colonne-1), min(n, colonne+2)):\n",
    "            if (l, c) != (ligne, colonne):\n",
    "                voisins.append((l,c))\n",
    "    return voisins\n",
    "\n",
    "def incrémente_voisins(grille, ligne, colonne):\n",
    "    \"\"\" Incrémente de 1 toutes les cases voisines d'une bombe. \"\"\"\n",
    "    voisins = voisinage(len(grille), ligne, colonne)\n",
    "    for l, c in voisins:\n",
    "        if grille[l][c] != -1:\n",
    "            grille[l][c] += 1\n",
    "\n",
    "def génère_grille(bombes):\n",
    "    \"\"\" Renvoie une grille de démineur de taille nxn où n est\n",
    "        le nombre de bombes, en plaçant les bombes à l'aide de\n",
    "        la liste bombes de coordonnées (tuples) passée en\n",
    "        paramètre. \"\"\"\n",
    "    n = len(bombes)\n",
    "    grille = [[0 for colonne in range(n)] for ligne in range(n)]\n",
    "\n",
    "    for ligne, colonne in bombes:\n",
    "        grille[ligne][colonne] = -1\n",
    "        incrémente_voisins(grille, ligne, colonne) \n",
    "\n",
    "    return grille"
   ]
  },
  {
   "cell_type": "code",
   "execution_count": 3,
   "metadata": {},
   "outputs": [
    {
     "data": {
      "text/plain": [
       "[[1, 1, 1, 0, 0],\n",
       " [1, -1, 1, 1, 1],\n",
       " [2, 2, 3, 2, -1],\n",
       " [1, -1, 2, -1, 3],\n",
       " [1, 1, 2, 2, -1]]"
      ]
     },
     "execution_count": 3,
     "metadata": {},
     "output_type": "execute_result"
    }
   ],
   "source": [
    "génère_grille([(1, 1), (2, 4), (3, 1), (3, 3), (4, 4)])"
   ]
  }
 ],
 "metadata": {
  "kernelspec": {
   "display_name": "Python 3",
   "language": "python",
   "name": "python3"
  },
  "language_info": {
   "codemirror_mode": {
    "name": "ipython",
    "version": 3
   },
   "file_extension": ".py",
   "mimetype": "text/x-python",
   "name": "python",
   "nbconvert_exporter": "python",
   "pygments_lexer": "ipython3",
   "version": "3.10.13"
  }
 },
 "nbformat": 4,
 "nbformat_minor": 2
}
