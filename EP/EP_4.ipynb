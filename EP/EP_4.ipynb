{
 "cells": [
  {
   "cell_type": "code",
   "execution_count": 1,
   "metadata": {},
   "outputs": [],
   "source": [
    "#Exercice 1\n",
    "\n",
    "points = [(9, 2, -8), (-3, 9, -8), (1, 9, 7), (-3, 6, 7), (-7, 1, 3), (-4, 0, 5)]\n",
    "points1 = [(8,0,-2), (-7,4,2), (-7,0,8), (7,7,-2)]\n",
    "\n",
    "def minimum(points, composante):\n",
    "    Ppetit = points[0]\n",
    "    for i in range(1, len(points)):\n",
    "        if composante == \"Ox\" and Ppetit[0] > points[i][0] or composante == \"Oy\" and Ppetit[1] > points[i][1] or composante == \"Oz\" and Ppetit[2] > points[i][2]:\n",
    "            Ppetit = points[i]\n",
    "\n",
    "    return Ppetit"
   ]
  },
  {
   "cell_type": "code",
   "execution_count": 2,
   "metadata": {},
   "outputs": [
    {
     "name": "stdout",
     "output_type": "stream",
     "text": [
      "(-7, 1, 3)\n",
      "(-4, 0, 5)\n",
      "(9, 2, -8)\n"
     ]
    }
   ],
   "source": [
    "print(minimum(points, 'Ox'))\n",
    "print(minimum(points, 'Oy'))\n",
    "print(minimum(points, 'Oz'))"
   ]
  },
  {
   "cell_type": "code",
   "execution_count": 3,
   "metadata": {},
   "outputs": [
    {
     "name": "stdout",
     "output_type": "stream",
     "text": [
      "(-7, 4, 2)\n",
      "(8, 0, -2)\n",
      "(8, 0, -2)\n"
     ]
    }
   ],
   "source": [
    "print(minimum(points1, 'Ox'))\n",
    "print(minimum(points1, 'Oy'))\n",
    "print(minimum(points1, 'Oz'))"
   ]
  },
  {
   "cell_type": "markdown",
   "metadata": {},
   "source": [
    "     "
   ]
  },
  {
   "cell_type": "code",
   "execution_count": 118,
   "metadata": {},
   "outputs": [],
   "source": [
    "class Pile:\n",
    "    def __init__(self):\n",
    "        self.valeurs = []\n",
    "\n",
    "    def est_vide(self):\n",
    "        \"\"\"Détermine si la pile est vide\"\"\"\n",
    "        return len(self.valeurs) == 0\n",
    "\n",
    "    def empile(self, x):\n",
    "        \"\"\"Empile x dans la pile\"\"\"\n",
    "        self.valeurs.append(x)\n",
    "\n",
    "    def depile(self):\n",
    "        \"\"\"Dépile une valeur et la renvoie\n",
    "        Lève une erreur si la pile est vide\n",
    "        \"\"\"\n",
    "        if self.est_vide():\n",
    "            raise ValueError(\"La pile est vide\")\n",
    "        return self.valeurs.pop()\n",
    "\n",
    "\n",
    "def renverse(pile):\n",
    "    resultat = Pile()\n",
    "    while not pile.est_vide():\n",
    "        x = pile.depile()\n",
    "        resultat.empile(x)\n",
    "    return resultat\n",
    "\n",
    "\n",
    "def filtre(pile):\n",
    "    positifs = Pile()\n",
    "    negatifs = Pile()\n",
    "\n",
    "    while not pile.est_vide():\n",
    "        x = pile.depile()\n",
    "        if x >=0:\n",
    "            positifs.empile(x)\n",
    "        else:\n",
    "            negatifs.empile(x)\n",
    "    positifs = renverse(positifs)\n",
    "    negatifs = renverse(negatifs)\n",
    "\n",
    "    return positifs, negatifs"
   ]
  },
  {
   "cell_type": "code",
   "execution_count": 122,
   "metadata": {},
   "outputs": [
    {
     "data": {
      "text/plain": [
       "False"
      ]
     },
     "execution_count": 122,
     "metadata": {},
     "output_type": "execute_result"
    }
   ],
   "source": [
    "\n",
    "pile_2 = Pile()\n",
    "for x in [1, -1, 2, -3, -5, 2, 6, -4, -9]:\n",
    "    pile_2.empile(x)\n",
    "pile_2.est_vide()"
   ]
  },
  {
   "cell_type": "code",
   "execution_count": 123,
   "metadata": {},
   "outputs": [
    {
     "name": "stdout",
     "output_type": "stream",
     "text": [
      "[1, 2, 2, 6]\n",
      "[-1, -3, -5, -4, -9]\n"
     ]
    }
   ],
   "source": [
    "pile_2 = Pile()\n",
    "for x in [1, -1, 2, -3, -5, 2, 6, -4, -9]:\n",
    "    pile_2.empile(x)\n",
    "positifs, negatifs = filtre(pile_2)\n",
    "print(positifs.valeurs)\n",
    "print(negatifs.valeurs)"
   ]
  }
 ],
 "metadata": {
  "kernelspec": {
   "display_name": "Python 3",
   "language": "python",
   "name": "python3"
  },
  "language_info": {
   "codemirror_mode": {
    "name": "ipython",
    "version": 3
   },
   "file_extension": ".py",
   "mimetype": "text/x-python",
   "name": "python",
   "nbconvert_exporter": "python",
   "pygments_lexer": "ipython3",
   "version": "3.10.13"
  }
 },
 "nbformat": 4,
 "nbformat_minor": 2
}
